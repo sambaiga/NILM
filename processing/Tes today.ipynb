{
 "cells": [
  {
   "cell_type": "code",
   "execution_count": 111,
   "metadata": {
    "collapsed": true
   },
   "outputs": [],
   "source": [
    "import warnings\n",
    "warnings.simplefilter('ignore')\n",
    "\n",
    "import ukdata as data\n",
    "import time\n",
    "from datetime import datetime\n",
    "import pandas as pd\n",
    "import numpy as np\n",
    "\n",
    "import refitdata as refit\n",
    "from matplotlib import pyplot as plt\n",
    "import random\n",
    "import timeit\n",
    "import matplotlib as mpl\n",
    "import matplotlib.pyplot as plt\n",
    "from matplotlib import rcParams\n",
    "import matplotlib.dates as dates\n",
    "import seaborn as sns\n",
    "dark_colors = [\"#A51C30\", \"#808080\",\n",
    "                (0.8509803921568627, 0.37254901960784315, 0.00784313725490196),\n",
    "                (0.4588235294117647, 0.4392156862745098, 0.7019607843137254),\n",
    "                (0.9058823529411765, 0.1607843137254902, 0.5411764705882353),\n",
    "                (0.4, 0.6509803921568628, 0.11764705882352941),\n",
    "                (0.9019607843137255, 0.6705882352941176, 0.00784313725490196),\n",
    "                (0.6509803921568628, 0.4627450980392157, 0.11372549019607843),\n",
    "                (0.4, 0.4, 0.4)]\n",
    "# dark_colors = ['#A51C30', '#808080']\n",
    "rcParams['figure.figsize'] = (13, 6)\n",
    "rcParams['figure.dpi'] = 600\n",
    "rcParams['axes.color_cycle'] = dark_colors\n",
    "rcParams['lines.linewidth'] = 2\n",
    "rcParams['axes.facecolor'] = \"white\"\n",
    "rcParams['axes.titlesize'] = 12      \n",
    "rcParams['axes.labelsize'] = 12\n",
    "rcParams['xtick.labelsize'] = 10\n",
    "rcParams['ytick.labelsize'] = 10\n",
    "rcParams['legend.fontsize'] = 12\n",
    "rcParams['patch.edgecolor'] = 'none'\n",
    "rcParams['grid.color']=\"gray\"   \n",
    "rcParams['grid.linestyle']=\"-\" \n",
    "rcParams['grid.linewidth'] = 0.3\n",
    "%matplotlib inline"
   ]
  },
  {
   "cell_type": "markdown",
   "metadata": {},
   "source": [
    "## Load UK DALE"
   ]
  },
  {
   "cell_type": "code",
   "execution_count": 136,
   "metadata": {
    "collapsed": true
   },
   "outputs": [],
   "source": [
    "path = \"/home/ibcn079/data/ukdale/\"\n",
    "WINDOW_SIZE= 2000\n",
    "Threshold =10   \n",
    "appliance = 'fridge'"
   ]
  },
  {
   "cell_type": "code",
   "execution_count": 143,
   "metadata": {},
   "outputs": [
    {
     "name": "stdout",
     "output_type": "stream",
     "text": [
      "/home/ibcn079/data/ukdale/house1/\n",
      "Reading house: 1\n",
      "/home/ibcn079/data/ukdale/house2/\n",
      "Reading house: 2\n",
      "size of aggregate: 2780373\n",
      "size of meters: 1687285\n"
     ]
    }
   ],
   "source": [
    "aggregate, iam = data.generate_clean_data(path, appliance,buildings=[1,2])"
   ]
  },
  {
   "cell_type": "code",
   "execution_count": 144,
   "metadata": {
    "collapsed": true
   },
   "outputs": [],
   "source": [
    "def resample_data(main, meter):\n",
    "    '''Convernt time column into index and downsampling aggregate data \n",
    "    from 1s data to ~6s data as it was sampled for each individual appliance\n",
    "\n",
    "    Attributes\n",
    "    ----------\n",
    "    main :  Aggregate dataframe\n",
    "    meter : appliance dataframe\n",
    "\n",
    "    Return : \n",
    "       [pandas.Dataframe] main, meter - so it can be  possibly for some other transformations)\n",
    "\n",
    "    '''\n",
    "    main.index = main['Time']\n",
    "    meter.index = meter['Time']\n",
    "\n",
    "    del meter['Time']\n",
    "    del main['Time']\n",
    "\n",
    "    meter = meter[meter.index.isin(main.index)]\n",
    "    main = main[main.index.isin(meter.index)]\n",
    "    \n",
    "    return main, meter"
   ]
  },
  {
   "cell_type": "code",
   "execution_count": 145,
   "metadata": {
    "collapsed": true
   },
   "outputs": [],
   "source": [
    "main, app = resample_data(main=aggregate, meter=iam)"
   ]
  },
  {
   "cell_type": "code",
   "execution_count": 146,
   "metadata": {
    "collapsed": true
   },
   "outputs": [],
   "source": [
    "frg = app['2013-05-20 21:28:39':'2013-05-20 22:20:39']\n",
    "agg = main['2013-05-20 21:28:39':'2013-05-20 22:20:39']"
   ]
  },
  {
   "cell_type": "code",
   "execution_count": 147,
   "metadata": {},
   "outputs": [
    {
     "data": {
      "text/plain": [
       "Text(0,0.5,'Power ($W$)')"
      ]
     },
     "execution_count": 147,
     "metadata": {},
     "output_type": "execute_result"
    },
    {
     "data": {
      "image/png": "[encoded data removed]",
      "text/plain": [
       "<matplotlib.figure.Figure at 0x7f6e090c6eb8>"
      ]
     },
     "metadata": {},
     "output_type": "display_data"
    }
   ],
   "source": [
    "plt.plot(pd.DatetimeIndex(frg.index).to_pydatetime(),agg)\n",
    "plt.title(\"Meter power\")\n",
    "plt.ylabel('Power ($W$)')"
   ]
  },
  {
   "cell_type": "code",
   "execution_count": 148,
   "metadata": {},
   "outputs": [
    {
     "data": {
      "text/plain": [
       "Text(0,0.5,'Power ($W$)')"
      ]
     },
     "execution_count": 148,
     "metadata": {},
     "output_type": "execute_result"
    },
    {
     "data": {
      "image/png": "[encoded data removed]",
      "text/plain": [
       "<matplotlib.figure.Figure at 0x7f6e07ebd860>"
      ]
     },
     "metadata": {},
     "output_type": "display_data"
    }
   ],
   "source": [
    "plt.plot(pd.DatetimeIndex(frg.index).to_pydatetime(),frg)\n",
    "plt.title(\"Appliance Power\")\n",
    "plt.ylabel('Power ($W$)')"
   ]
  },
  {
   "cell_type": "markdown",
   "metadata": {},
   "source": [
    "## Window"
   ]
  },
  {
   "cell_type": "code",
   "execution_count": 24,
   "metadata": {},
   "outputs": [
    {
     "name": "stdout",
     "output_type": "stream",
     "text": [
      "Reading house: 1\n",
      "Reading house: 2\n"
     ]
    }
   ],
   "source": [
    "agg_refit, iam_refit =refit.generate_clean_data2(path, appliance=appliance_name)"
   ]
  },
  {
   "cell_type": "markdown",
   "metadata": {},
   "source": [
    "## Process DATA"
   ]
  }
 ],
 "metadata": {
  "kernelspec": {
   "display_name": "Python 3",
   "language": "python",
   "name": "python3"
  },
  "language_info": {
   "codemirror_mode": {
    "name": "ipython",
    "version": 3
   },
   "file_extension": ".py",
   "mimetype": "text/x-python",
   "name": "python",
   "nbconvert_exporter": "python",
   "pygments_lexer": "ipython3",
   "version": "3.6.2"
  }
 },
 "nbformat": 4,
 "nbformat_minor": 2
}
