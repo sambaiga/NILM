{
 "cells": [
  {
   "cell_type": "code",
   "execution_count": 2,
   "metadata": {
    "collapsed": true
   },
   "outputs": [],
   "source": [
    "import warnings\n",
    "warnings.simplefilter('ignore')\n",
    "import os\n",
    "import pandas as pd\n",
    "import numpy as np\n",
    "import os\n",
    "import psutil \n",
    "from datetime import datetime\n",
    "import random\n",
    "import numpy as np\n",
    "import ukdale_data as data\n",
    "from functions import *\n",
    "import DataProvider \n",
    "import pandas as pd\n",
    "import refitdata as refit\n",
    "from matplotlib import pyplot as plt\n",
    "import random\n",
    "import timeit\n",
    "import matplotlib as mpl\n",
    "import matplotlib.pyplot as plt\n",
    "from matplotlib import rcParams\n",
    "import matplotlib.dates as dates\n",
    "import seaborn as sns\n",
    "import dask.dataframe as dd\n",
    "dark_colors = [\"#A51C30\", \"#808080\",\n",
    "                (0.8509803921568627, 0.37254901960784315, 0.00784313725490196),\n",
    "                (0.4588235294117647, 0.4392156862745098, 0.7019607843137254),\n",
    "                (0.9058823529411765, 0.1607843137254902, 0.5411764705882353),\n",
    "                (0.4, 0.6509803921568628, 0.11764705882352941),\n",
    "                (0.9019607843137255, 0.6705882352941176, 0.00784313725490196),\n",
    "                (0.6509803921568628, 0.4627450980392157, 0.11372549019607843),\n",
    "                (0.4, 0.4, 0.4)]\n",
    "# dark_colors = ['#A51C30', '#808080']\n",
    "rcParams['figure.figsize'] = (13, 6)\n",
    "rcParams['figure.dpi'] = 600\n",
    "rcParams['axes.color_cycle'] = dark_colors\n",
    "rcParams['lines.linewidth'] = 2\n",
    "rcParams['axes.facecolor'] = \"white\"\n",
    "rcParams['axes.titlesize'] = 12      \n",
    "rcParams['axes.labelsize'] = 12\n",
    "rcParams['xtick.labelsize'] = 10\n",
    "rcParams['ytick.labelsize'] = 10\n",
    "rcParams['legend.fontsize'] = 12\n",
    "rcParams['patch.edgecolor'] = 'none'\n",
    "rcParams['grid.color']=\"gray\"   \n",
    "rcParams['grid.linestyle']=\"-\" \n",
    "rcParams['grid.linewidth'] = 0.3\n",
    "%matplotlib inline"
   ]
  },
  {
   "cell_type": "code",
   "execution_count": 3,
   "metadata": {
    "collapsed": true
   },
   "outputs": [],
   "source": [
    "import timeit"
   ]
  },
  {
   "cell_type": "code",
   "execution_count": 59,
   "metadata": {},
   "outputs": [
    {
     "name": "stdout",
     "output_type": "stream",
     "text": [
      "5.729619857993384\n"
     ]
    }
   ],
   "source": [
    "start = timeit.default_timer()\n",
    "path=\"/home/ibcn079/data/CLEAN_REFIT_081116/CLEAN_House1.csv\"\n",
    "data = pd.read_csv(path)\n",
    "stop = timeit.default_timer()\n",
    "print( stop - start )\n"
   ]
  },
  {
   "cell_type": "code",
   "execution_count": 60,
   "metadata": {},
   "outputs": [
    {
     "name": "stdout",
     "output_type": "stream",
     "text": [
      "3.43119664099504\n"
     ]
    }
   ],
   "source": [
    "start = timeit.default_timer()\n",
    "data.to_hdf(\"/home/ibcn079/data/REFIT/house\"+str(1),key=str(1))\n",
    "stop = timeit.default_timer()\n",
    "print( stop - start )\n"
   ]
  },
  {
   "cell_type": "code",
   "execution_count": 61,
   "metadata": {},
   "outputs": [
    {
     "name": "stdout",
     "output_type": "stream",
     "text": [
      "1.5416923480006517\n"
     ]
    }
   ],
   "source": [
    "start = timeit.default_timer()\n",
    "data2 = pd.read_hdf(\"/home/ibcn079/data/REFIT/house1\")\n",
    "stop = timeit.default_timer()\n",
    "print( stop - start )"
   ]
  },
  {
   "cell_type": "code",
   "execution_count": 64,
   "metadata": {},
   "outputs": [
    {
     "name": "stdout",
     "output_type": "stream",
     "text": [
      "1.682886189999408\n"
     ]
    }
   ],
   "source": [
    "start = timeit.default_timer()\n",
    "data.to_feather(\"/home/ibcn079/data/REFIT/house_\"+str(1))\n",
    "stop = timeit.default_timer()\n",
    "print( stop - start )"
   ]
  },
  {
   "cell_type": "code",
   "execution_count": 7,
   "metadata": {},
   "outputs": [
    {
     "name": "stdout",
     "output_type": "stream",
     "text": [
      "0.34966760800307384\n"
     ]
    }
   ],
   "source": [
    "start = timeit.default_timer()\n",
    "data3 = pd.read_feather(\"/home/ibcn079/data/REFIT/house_1\")[['Timestamp','Aggregate']]\n",
    "stop = timeit.default_timer()\n",
    "print( stop - start )"
   ]
  },
  {
   "cell_type": "code",
   "execution_count": 8,
   "metadata": {},
   "outputs": [
    {
     "data": {
      "text/html": [
       "<div>\n",
       "<style scoped>\n",
       "    .dataframe tbody tr th:only-of-type {\n",
       "        vertical-align: middle;\n",
       "    }\n",
       "\n",
       "    .dataframe tbody tr th {\n",
       "        vertical-align: top;\n",
       "    }\n",
       "\n",
       "    .dataframe thead th {\n",
       "        text-align: right;\n",
       "    }\n",
       "</style>\n",
       "<table border=\"1\" class=\"dataframe\">\n",
       "  <thead>\n",
       "    <tr style=\"text-align: right;\">\n",
       "      <th></th>\n",
       "      <th>Timestamp</th>\n",
       "      <th>Aggregate</th>\n",
       "    </tr>\n",
       "  </thead>\n",
       "  <tbody>\n",
       "    <tr>\n",
       "      <th>0</th>\n",
       "      <td>2013-10-09 13:06:17+00:00</td>\n",
       "      <td>523</td>\n",
       "    </tr>\n",
       "    <tr>\n",
       "      <th>1</th>\n",
       "      <td>2013-10-09 13:06:31+00:00</td>\n",
       "      <td>526</td>\n",
       "    </tr>\n",
       "    <tr>\n",
       "      <th>2</th>\n",
       "      <td>2013-10-09 13:06:46+00:00</td>\n",
       "      <td>540</td>\n",
       "    </tr>\n",
       "    <tr>\n",
       "      <th>3</th>\n",
       "      <td>2013-10-09 13:07:01+00:00</td>\n",
       "      <td>532</td>\n",
       "    </tr>\n",
       "    <tr>\n",
       "      <th>4</th>\n",
       "      <td>2013-10-09 13:07:15+00:00</td>\n",
       "      <td>540</td>\n",
       "    </tr>\n",
       "  </tbody>\n",
       "</table>\n",
       "</div>"
      ],
      "text/plain": [
       "                  Timestamp  Aggregate\n",
       "0 2013-10-09 13:06:17+00:00        523\n",
       "1 2013-10-09 13:06:31+00:00        526\n",
       "2 2013-10-09 13:06:46+00:00        540\n",
       "3 2013-10-09 13:07:01+00:00        532\n",
       "4 2013-10-09 13:07:15+00:00        540"
      ]
     },
     "execution_count": 8,
     "metadata": {},
     "output_type": "execute_result"
    }
   ],
   "source": [
    "data3.head()"
   ]
  },
  {
   "cell_type": "code",
   "execution_count": null,
   "metadata": {
    "collapsed": true
   },
   "outputs": [],
   "source": []
  }
 ],
 "metadata": {
  "kernelspec": {
   "display_name": "Python 3",
   "language": "python",
   "name": "python3"
  },
  "language_info": {
   "codemirror_mode": {
    "name": "ipython",
    "version": 3
   },
   "file_extension": ".py",
   "mimetype": "text/x-python",
   "name": "python",
   "nbconvert_exporter": "python",
   "pygments_lexer": "ipython3",
   "version": "3.6.2"
  }
 },
 "nbformat": 4,
 "nbformat_minor": 2
}
