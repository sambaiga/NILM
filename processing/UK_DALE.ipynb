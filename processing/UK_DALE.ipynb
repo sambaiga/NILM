{
 "cells": [
  {
   "cell_type": "code",
   "execution_count": 1,
   "metadata": {},
   "outputs": [],
   "source": [
    "import pandas as pd\n",
    "import dask.dataframe as dd\n",
    "from os import walk\n",
    "import numpy as np\n",
    "import torch\n",
    "import random\n",
    "import matplotlib.pyplot as plt"
   ]
  },
  {
   "cell_type": "code",
   "execution_count": 2,
   "metadata": {
    "collapsed": true
   },
   "outputs": [],
   "source": [
    "def read_channel(filename):\n",
    "    \"\"\"Method to read home channel data from .dat file into panda dataframe\n",
    "        Args:\n",
    "                filename: path to a specific channel_(m) from house(n)\n",
    "        return:\n",
    "                [pandas.Dataframe] of a signle channel_(m) from house(n)\n",
    "    \"\"\"\n",
    "    channel_to_read = pd.read_csv(filename, names=[\"Time\", \"Individual_usage\"], delim_whitespace=True)\n",
    "    return channel_to_read"
   ]
  },
  {
   "cell_type": "code",
   "execution_count": null,
   "metadata": {
    "collapsed": true
   },
   "outputs": [],
   "source": [
    "def load_chan_list(app_name, ds_name='UKDALE'):\n",
    "        \"\"\"\n",
    "        Returns corresponding meter numbers given appliance name\n",
    "        For different channels with same name, it will return a list\n",
    "        \"\"\"\n",
    "        chan_list = []\n",
    "        if(ds_name=='UKDALE'):\n",
    "            for line in open(os.path.join(self.data_dir, 'labels.dat')):\n",
    "                if(line.strip('\\n').split(' ')[1] == app_name or \n",
    "                   line.strip('\\n').split(' ')[1][:-1] == app_name):\n",
    "                    chan_list.append(int(line.strip('\\n').split(' ')[0]))\n",
    "        return(chan_list)"
   ]
  },
  {
   "cell_type": "code",
   "execution_count": 41,
   "metadata": {
    "collapsed": true
   },
   "outputs": [],
   "source": [
    "uk = \"/home/ibcn079/data/ukdale/house1/channel_1.dat\"\n",
    "uk2 = \"/home/ibcn079/data/ukdale/house1/channel_10.dat\"\n",
    "mains = \"/home/ibcn079/data/ukdale/house1/mains.dat\"\n",
    "data1  = read_channel(uk)\n",
    "data2 = read_channel(uk2)\n",
    "aggr =get_aggregate_data(mains)"
   ]
  },
  {
   "cell_type": "code",
   "execution_count": 50,
   "metadata": {},
   "outputs": [
    {
     "data": {
      "text/html": [
       "<div>\n",
       "<style scoped>\n",
       "    .dataframe tbody tr th:only-of-type {\n",
       "        vertical-align: middle;\n",
       "    }\n",
       "\n",
       "    .dataframe tbody tr th {\n",
       "        vertical-align: top;\n",
       "    }\n",
       "\n",
       "    .dataframe thead th {\n",
       "        text-align: right;\n",
       "    }\n",
       "</style>\n",
       "<table border=\"1\" class=\"dataframe\">\n",
       "  <thead>\n",
       "    <tr style=\"text-align: right;\">\n",
       "      <th></th>\n",
       "      <th>Time</th>\n",
       "      <th>Individual_usage</th>\n",
       "    </tr>\n",
       "  </thead>\n",
       "  <tbody>\n",
       "    <tr>\n",
       "      <th>0</th>\n",
       "      <td>1352500098</td>\n",
       "      <td>1</td>\n",
       "    </tr>\n",
       "    <tr>\n",
       "      <th>1</th>\n",
       "      <td>1352500104</td>\n",
       "      <td>1</td>\n",
       "    </tr>\n",
       "    <tr>\n",
       "      <th>2</th>\n",
       "      <td>1352500110</td>\n",
       "      <td>1</td>\n",
       "    </tr>\n",
       "    <tr>\n",
       "      <th>3</th>\n",
       "      <td>1352500116</td>\n",
       "      <td>1</td>\n",
       "    </tr>\n",
       "    <tr>\n",
       "      <th>4</th>\n",
       "      <td>1352500122</td>\n",
       "      <td>1</td>\n",
       "    </tr>\n",
       "  </tbody>\n",
       "</table>\n",
       "</div>"
      ],
      "text/plain": [
       "         Time  Individual_usage\n",
       "0  1352500098                 1\n",
       "1  1352500104                 1\n",
       "2  1352500110                 1\n",
       "3  1352500116                 1\n",
       "4  1352500122                 1"
      ]
     },
     "execution_count": 50,
     "metadata": {},
     "output_type": "execute_result"
    }
   ],
   "source": [
    "data2.head()"
   ]
  },
  {
   "cell_type": "code",
   "execution_count": 51,
   "metadata": {},
   "outputs": [
    {
     "data": {
      "text/html": [
       "<div>\n",
       "<style scoped>\n",
       "    .dataframe tbody tr th:only-of-type {\n",
       "        vertical-align: middle;\n",
       "    }\n",
       "\n",
       "    .dataframe tbody tr th {\n",
       "        vertical-align: top;\n",
       "    }\n",
       "\n",
       "    .dataframe thead th {\n",
       "        text-align: right;\n",
       "    }\n",
       "</style>\n",
       "<table border=\"1\" class=\"dataframe\">\n",
       "  <thead>\n",
       "    <tr style=\"text-align: right;\">\n",
       "      <th></th>\n",
       "      <th></th>\n",
       "      <th>Time</th>\n",
       "      <th>Individual_usage</th>\n",
       "    </tr>\n",
       "  </thead>\n",
       "  <tbody>\n",
       "    <tr>\n",
       "      <th rowspan=\"5\" valign=\"top\">1.363548e+09</th>\n",
       "      <th>337.88</th>\n",
       "      <td>431.04</td>\n",
       "      <td>240.15</td>\n",
       "    </tr>\n",
       "    <tr>\n",
       "      <th>339.43</th>\n",
       "      <td>427.94</td>\n",
       "      <td>240.56</td>\n",
       "    </tr>\n",
       "    <tr>\n",
       "      <th>340.63</th>\n",
       "      <td>429.66</td>\n",
       "      <td>241.07</td>\n",
       "    </tr>\n",
       "    <tr>\n",
       "      <th>338.80</th>\n",
       "      <td>426.99</td>\n",
       "      <td>240.44</td>\n",
       "    </tr>\n",
       "    <tr>\n",
       "      <th>340.88</th>\n",
       "      <td>429.13</td>\n",
       "      <td>241.01</td>\n",
       "    </tr>\n",
       "  </tbody>\n",
       "</table>\n",
       "</div>"
      ],
      "text/plain": [
       "                       Time  Individual_usage\n",
       "1.363548e+09 337.88  431.04            240.15\n",
       "             339.43  427.94            240.56\n",
       "             340.63  429.66            241.07\n",
       "             338.80  426.99            240.44\n",
       "             340.88  429.13            241.01"
      ]
     },
     "execution_count": 51,
     "metadata": {},
     "output_type": "execute_result"
    }
   ],
   "source": [
    "aggr.head()"
   ]
  },
  {
   "cell_type": "code",
   "execution_count": null,
   "metadata": {
    "collapsed": true
   },
   "outputs": [],
   "source": []
  }
 ],
 "metadata": {
  "kernelspec": {
   "display_name": "Python 2",
   "language": "python",
   "name": "python2"
  },
  "language_info": {
   "codemirror_mode": {
    "name": "ipython",
    "version": 3
   },
   "file_extension": ".py",
   "mimetype": "text/x-python",
   "name": "python",
   "nbconvert_exporter": "python",
   "pygments_lexer": "ipython3",
   "version": "3.6.2"
  }
 },
 "nbformat": 4,
 "nbformat_minor": 2
}
